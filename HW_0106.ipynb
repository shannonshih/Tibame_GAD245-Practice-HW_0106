{
  "nbformat": 4,
  "nbformat_minor": 0,
  "metadata": {
    "colab": {
      "provenance": [],
      "authorship_tag": "ABX9TyOJVWyd2AjQ16pHvpfUv9su",
      "include_colab_link": true
    },
    "kernelspec": {
      "name": "python3",
      "display_name": "Python 3"
    },
    "language_info": {
      "name": "python"
    }
  },
  "cells": [
    {
      "cell_type": "markdown",
      "metadata": {
        "id": "view-in-github",
        "colab_type": "text"
      },
      "source": [
        "<a href=\"https://colab.research.google.com/github/shannonshih/Tibame_GAD245-Practice-HW_0106/blob/main/HW_0106.ipynb\" target=\"_parent\"><img src=\"https://colab.research.google.com/assets/colab-badge.svg\" alt=\"Open In Colab\"/></a>"
      ]
    },
    {
      "cell_type": "code",
      "source": [
        "# HW1\n",
        "#stotal = 6\n",
        "step_list = [0] * 6\n",
        "\n",
        "if len(step_list) == 6\n",
        "    for i in range(6):\n",
        "    step_list[i] = step_list[i] + 1\n",
        "    step = step + (i + 1) + (i + 2)\n",
        "    print(step)\n",
        "    i = i - 1\n",
        "# print(step)\n",
        "\n"
      ],
      "metadata": {
        "id": "dhJwmGFfTYZO"
      },
      "execution_count": null,
      "outputs": []
    },
    {
      "cell_type": "code",
      "source": [
        "import numpy as np\n",
        "a = [0]*6\n",
        "np_a = np.array(a)\n",
        "i = 0\n",
        "while i < 6:\n",
        "    new_a = np_a[i] + 1\n",
        "    #a = a[i]+1\n",
        "    print(new_a)\n",
        "    i = i + 1\n",
        "print(np.array(new_a))\n",
        "#print(sum(i for i in a))\n",
        "\n",
        "#print(sum(new_a))"
      ],
      "metadata": {
        "colab": {
          "base_uri": "https://localhost:8080/"
        },
        "id": "bfa8JCOvKEcz",
        "outputId": "93501d00-a4e6-4588-ff4e-af1c3acd8f5b"
      },
      "execution_count": 33,
      "outputs": [
        {
          "output_type": "stream",
          "name": "stdout",
          "text": [
            "1\n",
            "1\n",
            "1\n",
            "1\n",
            "1\n",
            "1\n",
            "1\n"
          ]
        }
      ]
    },
    {
      "cell_type": "code",
      "source": [
        "# 前一階走到方式 prev1\n",
        "# 前兩階走到方式 prev2\n",
        "prev1, prev2 = 0, 0\n",
        "total = 100\n",
        "for i in range(total):\n",
        "    # 主要要解決: prev1, prev2的設定\n",
        "    pass\n",
        "print(\"走100階總共有\", total, \"種方式\")"
      ],
      "metadata": {
        "id": "cUcwuWL5G26M"
      },
      "execution_count": null,
      "outputs": []
    },
    {
      "cell_type": "code",
      "execution_count": null,
      "metadata": {
        "id": "PMn6ZMmKHq8A"
      },
      "outputs": [],
      "source": [
        "s = \"\"\"原文\"\"\"\n",
        "# 原文最後一句: trouble will come of it\n",
        "f = open(\"password.txt\", \"w\", encoding=\"utf-8\")\n",
        "password =\n",
        "for c in s.lower():\n",
        "    if ord(\"a\") <= ord(c) <= ord(\"z\"):\n",
        "        n = ord(c) - ord(\"a\")\n",
        "        n = (n + password) % 26\n",
        "        f.write(chr(n + ord(\"a\")))\n",
        "    else:\n",
        "        f.write(c)\n",
        "f.close()"
      ]
    },
    {
      "cell_type": "code",
      "source": [
        "s = \"\"\"marry christmas\"\"\"\n",
        "# 原文最後一句: trouble will come of it\n",
        "f = open(\"pw.txt\", \"w\", encoding=\"utf-8\")\n",
        "password = 2\n",
        "for c in s.lower():\n",
        "    if ord(\"a\") <= ord(c) <= ord(\"z\"):\n",
        "        n = ord(c) - ord(\"a\")\n",
        "        n = (n + password) % 26\n",
        "        f.write(chr(n + ord(\"a\")))\n",
        "    else:\n",
        "        f.write(c)\n",
        "f.close()"
      ],
      "metadata": {
        "colab": {
          "base_uri": "https://localhost:8080/"
        },
        "id": "l_Xm4pWWvbFA",
        "outputId": "64211b89-3dff-428b-c57c-97e2974447ca"
      },
      "execution_count": null,
      "outputs": [
        {
          "output_type": "stream",
          "name": "stdout",
          "text": [
            "109\n",
            "97\n",
            "114\n",
            "114\n",
            "121\n",
            "99\n",
            "104\n",
            "114\n",
            "105\n",
            "115\n",
            "116\n",
            "109\n",
            "97\n",
            "115\n"
          ]
        }
      ]
    },
    {
      "cell_type": "code",
      "source": [
        "f = open(\"pw.txt\", \"r\", encoding=\"utf-8\")\n",
        "message = f.read()\n",
        "print(len(message))\n",
        "\n",
        "print(message[0])\n",
        "f.close()\n",
        "print(message)"
      ],
      "metadata": {
        "colab": {
          "base_uri": "https://localhost:8080/"
        },
        "id": "3VxAmpmIVGMr",
        "outputId": "e2f9e8ed-4617-496b-e7ef-ea2e750ffbf2"
      },
      "execution_count": null,
      "outputs": [
        {
          "output_type": "stream",
          "name": "stdout",
          "text": [
            "15\n",
            "o\n",
            "octta ejtkuvocu\n"
          ]
        }
      ]
    },
    {
      "cell_type": "code",
      "source": [
        "f = open(\"pw.txt\", \"r\", encoding=\"utf-8\")\n",
        "message = f.read()\n",
        "i = 0\n",
        "# decodemessage_list = dcl[0] * len(message)\n",
        "for i in range(len(message)):\n",
        "    i = i + 1\n",
        "    for j in range(26):\n",
        "    n = ord(message[i])\n",
        "    if ord(\"a\") <= ord(message[i]) <= ord(\"z\"):\n",
        "        #n = ord(message[i]) % ord(\"a\")\n",
        "        #decodemessage = ord(\"a\") + n\n",
        "        #print(decodemessage)\n",
        "        n1 = ord(message[i]) % 26\n",
        "        n2 =\n",
        "        password =\n",
        "\n",
        "\n",
        "        # decodemessage_list = decodemessage +\n",
        "        # f.write(chr(decodemessage))\n",
        "\n",
        "f.close()\n",
        "print(password)"
      ],
      "metadata": {
        "collapsed": true,
        "id": "6HzUB17pxrGq"
      },
      "execution_count": null,
      "outputs": []
    },
    {
      "cell_type": "code",
      "source": [
        "f = open(\"pw.txt\", \"r\", encoding=\"utf-8\")\n",
        "message = f.read()\n",
        "i = 0\n",
        "for i in range(9):\n",
        "    n1 = i + 1\n",
        "    for j in range(9):\n",
        "        n2 = j + 1\n",
        "        ans = n1 * n2\n",
        "        print(n1, \"*\", n2, \"=\", ans)"
      ],
      "metadata": {
        "colab": {
          "base_uri": "https://localhost:8080/"
        },
        "id": "httfEm0rOMUl",
        "outputId": "ff7e68fc-1572-4bf7-f17d-d50e24adc4b1"
      },
      "execution_count": null,
      "outputs": [
        {
          "output_type": "stream",
          "name": "stdout",
          "text": [
            "1 * 1 = 1\n",
            "1 * 2 = 2\n",
            "1 * 3 = 3\n",
            "1 * 4 = 4\n",
            "1 * 5 = 5\n",
            "1 * 6 = 6\n",
            "1 * 7 = 7\n",
            "1 * 8 = 8\n",
            "1 * 9 = 9\n",
            "2 * 1 = 2\n",
            "2 * 2 = 4\n",
            "2 * 3 = 6\n",
            "2 * 4 = 8\n",
            "2 * 5 = 10\n",
            "2 * 6 = 12\n",
            "2 * 7 = 14\n",
            "2 * 8 = 16\n",
            "2 * 9 = 18\n",
            "3 * 1 = 3\n",
            "3 * 2 = 6\n",
            "3 * 3 = 9\n",
            "3 * 4 = 12\n",
            "3 * 5 = 15\n",
            "3 * 6 = 18\n",
            "3 * 7 = 21\n",
            "3 * 8 = 24\n",
            "3 * 9 = 27\n",
            "4 * 1 = 4\n",
            "4 * 2 = 8\n",
            "4 * 3 = 12\n",
            "4 * 4 = 16\n",
            "4 * 5 = 20\n",
            "4 * 6 = 24\n",
            "4 * 7 = 28\n",
            "4 * 8 = 32\n",
            "4 * 9 = 36\n",
            "5 * 1 = 5\n",
            "5 * 2 = 10\n",
            "5 * 3 = 15\n",
            "5 * 4 = 20\n",
            "5 * 5 = 25\n",
            "5 * 6 = 30\n",
            "5 * 7 = 35\n",
            "5 * 8 = 40\n",
            "5 * 9 = 45\n",
            "6 * 1 = 6\n",
            "6 * 2 = 12\n",
            "6 * 3 = 18\n",
            "6 * 4 = 24\n",
            "6 * 5 = 30\n",
            "6 * 6 = 36\n",
            "6 * 7 = 42\n",
            "6 * 8 = 48\n",
            "6 * 9 = 54\n",
            "7 * 1 = 7\n",
            "7 * 2 = 14\n",
            "7 * 3 = 21\n",
            "7 * 4 = 28\n",
            "7 * 5 = 35\n",
            "7 * 6 = 42\n",
            "7 * 7 = 49\n",
            "7 * 8 = 56\n",
            "7 * 9 = 63\n",
            "8 * 1 = 8\n",
            "8 * 2 = 16\n",
            "8 * 3 = 24\n",
            "8 * 4 = 32\n",
            "8 * 5 = 40\n",
            "8 * 6 = 48\n",
            "8 * 7 = 56\n",
            "8 * 8 = 64\n",
            "8 * 9 = 72\n",
            "9 * 1 = 9\n",
            "9 * 2 = 18\n",
            "9 * 3 = 27\n",
            "9 * 4 = 36\n",
            "9 * 5 = 45\n",
            "9 * 6 = 54\n",
            "9 * 7 = 63\n",
            "9 * 8 = 72\n",
            "9 * 9 = 81\n"
          ]
        }
      ]
    }
  ]
}