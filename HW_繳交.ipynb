{
  "nbformat": 4,
  "nbformat_minor": 0,
  "metadata": {
    "colab": {
      "provenance": [],
      "authorship_tag": "ABX9TyPm1coqx9Ec8IahPjJQoyzU",
      "include_colab_link": true
    },
    "kernelspec": {
      "name": "python3",
      "display_name": "Python 3"
    },
    "language_info": {
      "name": "python"
    }
  },
  "cells": [
    {
      "cell_type": "markdown",
      "metadata": {
        "id": "view-in-github",
        "colab_type": "text"
      },
      "source": [
        "<a href=\"https://colab.research.google.com/github/shannonshih/Tibame_GAD245-Practice-HW_0106/blob/main/HW_%E7%B9%B3%E4%BA%A4.ipynb\" target=\"_parent\"><img src=\"https://colab.research.google.com/assets/colab-badge.svg\" alt=\"Open In Colab\"/></a>"
      ]
    },
    {
      "cell_type": "code",
      "source": [
        "!!!第一題!!!\n",
        "\n",
        "# 初始化變數\n",
        "prev1, prev2 = 0, 0 # 前一階和前兩階走到的方法數\n",
        "i = 1\n",
        "ways = 0\n",
        "\n",
        "# 啟動條件\n",
        "while i <= 100:\n",
        "    layer = i # 總階數\n",
        "    if layer == 1: # 第1階的方法數為 1\n",
        "        prev1 = 1\n",
        "        prev2 = 1\n",
        "    else:\n",
        "        current = prev1 + prev2 # 當前階的方法數\n",
        "        prev2 = prev1 # 更新前兩階的方法數\n",
        "        prev1 = current # 更新前一階的方法數\n",
        "    ways = prev1 # 最終結果儲存在prev1中\n",
        "    i = i + 1\n",
        "\n",
        "# 輸出結果\n",
        "    print(\"走\", layer, \"階總共有\", ways, \"種方式\")"
      ],
      "metadata": {
        "id": "dl8HGyfoi8Om"
      },
      "execution_count": null,
      "outputs": []
    },
    {
      "cell_type": "code",
      "execution_count": null,
      "metadata": {
        "id": "-EpSpRZbaopH"
      },
      "outputs": [],
      "source": [
        "!!!第二題!!!\n",
        "\n",
        "import urllib.request as req\n",
        "\n",
        "url = \"https://github.com/Elwing-Chou/tibame1224/raw/refs/heads/main/password.txt\"\n",
        "# 參數1:下載網址 參數2: 儲存本機的時候的命名\n",
        "req.urlretrieve(url, \"password.txt\")\n",
        "f = open(\"password.txt\", \"r\", encoding=\"utf-8\")\n",
        "message = f.read()\n",
        "# 初始化編碼訊息陣列\n",
        "message1 = [0] * len(message)\n",
        "j = 0\n",
        "# 將每個字符轉換為ASCII碼，並儲存在message1中\n",
        "for i in range(len(message)):\n",
        "    if j < len(message1):\n",
        "        message1[j] = ord(message[i])\n",
        "        j = j + 1\n",
        "print(message1)\n",
        "encoded_text = message1\n",
        "# 嘗試不同的偏移量來解碼\n",
        "for offset in range(1, 26):\n",
        "    decodemessage1 = ''\n",
        "    for char in encoded_text:\n",
        "        if ord('A') <= char <= ord('Z'):\n",
        "            decoded_char = (char - offset - ord('A')) % 26 + ord('A')\n",
        "        elif ord('a') <= char <= ord('z'):\n",
        "            decoded_char = (char - offset - ord('a')) % 26 + ord('a')\n",
        "        else:\n",
        "            decoded_char = char\n",
        "        decodemessage1 = decodemessage1 + chr(decoded_char)\n",
        "    else:\n",
        "        print(\"Offset = \", offset)\n",
        "        print(decodemessage1)\n",
        "        print(\"\\n\")\n",
        "        #print(f\"Offset {offset}: \\n{decodemessage1}\\n\")\n",
        "f.close()"
      ]
    }
  ]
}